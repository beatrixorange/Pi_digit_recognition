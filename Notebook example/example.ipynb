{
 "cells": [
  {
   "cell_type": "code",
   "execution_count": 23,
   "source": [
    "# Lets start with importing some libraries that help us illustrate the power of jupyter notebooks\r\n",
    "import numpy\r\n",
    "import random\r\n",
    "import matplotlib.pyplot as plt\r\n",
    "import matplotlib.image as mpimg\r\n",
    "import pandas as pd\r\n",
    "from PIL import Image"
   ],
   "outputs": [],
   "metadata": {}
  },
  {
   "cell_type": "code",
   "execution_count": 24,
   "source": [
    "# ^^^ Did you see that? The code block even returns how long it took to run! Awesome to see what is slowing down your code\r\n",
    "## This block is here to show different code blocks!\r\n",
    "\r\n",
    "# Lets run some code in this block\r\n",
    "randomList = []\r\n",
    "for number in range(1,10):\r\n",
    "    randomList.append(random.randint(0, 100))"
   ],
   "outputs": [],
   "metadata": {}
  },
  {
   "cell_type": "code",
   "execution_count": 25,
   "source": [
    "## You need to run the code BEFORE this block, then you can try this block. The blocks before will retain the same output\r\n",
    "# - Try running this block multiple times to see the output being static!\r\n",
    "# - Try running the PREVIOUS block again. Then THIS one again to see the output change!\r\n",
    "\r\n",
    "# Printing something will return the value UNDER this codeblock.\r\n",
    "print(randomList)\r\n",
    "print('Pretty cool!')"
   ],
   "outputs": [
    {
     "output_type": "stream",
     "name": "stdout",
     "text": [
      "[29, 23, 87, 79, 78, 50, 0, 36, 31]\n",
      "Pretty cool!\n"
     ]
    }
   ],
   "metadata": {}
  },
  {
   "cell_type": "code",
   "execution_count": 26,
   "source": [
    "# Also One thing we also can do, is run a codeblock multiple times to make more output. Press play multiple times to see the list grow!\r\n",
    "\r\n",
    "# The list will NOT be emptied when this codeblock runs\r\n",
    "#randomList = []\r\n",
    "for number in range(1,10):\r\n",
    "    randomList.append(random.randint(100, 200))\r\n",
    "print(randomList)\r\n",
    "print(\"Do note! The code AFTER this will continue with the data generated here! This can create some weird edge-cases if you forget about it!\")"
   ],
   "outputs": [
    {
     "output_type": "stream",
     "name": "stdout",
     "text": [
      "[29, 23, 87, 79, 78, 50, 0, 36, 31, 198, 141, 111, 184, 125, 126, 182, 157, 176]\n",
      "Do note! The code AFTER this will continue with the data generated here! This can create some weird edge-cases if you forget about it!\n"
     ]
    }
   ],
   "metadata": {}
  },
  {
   "cell_type": "code",
   "execution_count": 27,
   "source": [
    "# Generate a random size and widt image\r\n",
    "height = random.randint(0, 100)\r\n",
    "width = random.randint(0, 100)\r\n",
    "img = Image.new('RGB', (width, height), color = 'red')\r\n",
    "img.save('pil_red.png')\r\n",
    "\r\n",
    "# Showing matplotlibs is a way of showing stuff. Such as arrays, images, tables or other data. Usefull for testing AI output!  \r\n",
    "img = mpimg.imread('pil_red.png')\r\n",
    "fig = plt.figure()\r\n",
    "plot = fig.add_subplot(1, 2, 1)\r\n",
    "imgplot = plt.imshow(img)\r\n",
    "plot.set_title(f\"{width} x {height}\")\r\n",
    "imgplot = plt.imshow(img)\r\n",
    "plt.show()\r\n",
    "\r\n",
    "# Tip: run me multiple times to see the output change!"
   ],
   "outputs": [
    {
     "output_type": "display_data",
     "data": {
      "image/png": "[encoded data removed]",
      "text/plain": [
       "<Figure size 432x288 with 1 Axes>"
      ]
     },
     "metadata": {
      "needs_background": "light"
     }
    }
   ],
   "metadata": {}
  },
  {
   "cell_type": "code",
   "execution_count": 28,
   "source": [
    "# Tables are pretty cool too. All you need is a panda to store the data int\r\n",
    "data = [[1, 2], [3, 4]]\r\n",
    "pd.DataFrame(data, columns=[\"Left\", \"right\"])"
   ],
   "outputs": [
    {
     "output_type": "execute_result",
     "data": {
      "text/html": [
       "<div>\n",
       "<style scoped>\n",
       "    .dataframe tbody tr th:only-of-type {\n",
       "        vertical-align: middle;\n",
       "    }\n",
       "\n",
       "    .dataframe tbody tr th {\n",
       "        vertical-align: top;\n",
       "    }\n",
       "\n",
       "    .dataframe thead th {\n",
       "        text-align: right;\n",
       "    }\n",
       "</style>\n",
       "<table border=\"1\" class=\"dataframe\">\n",
       "  <thead>\n",
       "    <tr style=\"text-align: right;\">\n",
       "      <th></th>\n",
       "      <th>Left</th>\n",
       "      <th>right</th>\n",
       "    </tr>\n",
       "  </thead>\n",
       "  <tbody>\n",
       "    <tr>\n",
       "      <th>0</th>\n",
       "      <td>1</td>\n",
       "      <td>2</td>\n",
       "    </tr>\n",
       "    <tr>\n",
       "      <th>1</th>\n",
       "      <td>3</td>\n",
       "      <td>4</td>\n",
       "    </tr>\n",
       "  </tbody>\n",
       "</table>\n",
       "</div>"
      ],
      "text/plain": [
       "   Left  right\n",
       "0     1      2\n",
       "1     3      4"
      ]
     },
     "metadata": {},
     "execution_count": 28
    }
   ],
   "metadata": {}
  },
  {
   "cell_type": "markdown",
   "source": [
    "# [How about markdown!]\r\n",
    "Yep... Jupyter notebooks have built in markdown... This is great to add comments, explain codeblocks or show images for example:\r\n",
    "# ![Generated Image](./pil_red.png) \r\n",
    "Please note that this text is STATIC and will not automatically update images when they change (for example)\r\n",
    "\r\n",
    "*cool stuff. double click this to edit!*"
   ],
   "metadata": {}
  },
  {
   "cell_type": "code",
   "execution_count": 29,
   "source": [
    "# Conclusion!"
   ],
   "outputs": [],
   "metadata": {}
  },
  {
   "cell_type": "markdown",
   "source": [
    "# As you can see, jupyter notebooks are pretty usefull.\r\n",
    "Mostly for debugging and creating software, without running it ALL over again.\r\n",
    "Jupyther notebooks are not usefull for production applications. However with the export feature, you can take your debugging jupyter notebook to something more usefull for production.\r\n",
    "\r\n",
    "## What are the main advantages\r\n",
    "- Its great for showcasing and visually seeing data\r\n",
    "- You can easily see if snippets of code run. (Or snippets from colleagues)\r\n",
    "- Running line by line code inside of the code snippets is easy (and the variable table is great for this)\r\n",
    "\r\n",
    "## What are the disadvantages\r\n",
    "- Its not an IDE\r\n",
    "- You lose most syntax highlighting\r\n",
    "- It can look cluttered in big codebases\r\n",
    "\r\n",
    "# So where is this usefull?\r\n",
    "Debugging, and programs that take alot of time to run fully. You can image that during AI training it would be usefull to not run the ENTIRE code again. For example, while loading images into the AI or after a training.\r\n",
    "\r\n",
    "If you have an advanced IDE and workflow, a jupyter notebooks is definitely not a \"replacement\". Its a tool that can help debugging or save time to prevent code from running all over again. Nothing more.\r\n",
    "\r\n",
    "*I'm RedFirebreak, and this was my TED talk*"
   ],
   "metadata": {}
  }
 ],
 "metadata": {
  "orig_nbformat": 4,
  "language_info": {
   "name": "python",
   "version": "3.9.7",
   "mimetype": "text/x-python",
   "codemirror_mode": {
    "name": "ipython",
    "version": 3
   },
   "pygments_lexer": "ipython3",
   "nbconvert_exporter": "python",
   "file_extension": ".py"
  },
  "kernelspec": {
   "name": "python3",
   "display_name": "Python 3.9.7 64-bit"
  },
  "interpreter": {
   "hash": "5b05f6c295e0519bd7b0ea9f0a8130f6bad9baf7c2b05bb5a2a3315dcddc6b7d"
  }
 },
 "nbformat": 4,
 "nbformat_minor": 2
}